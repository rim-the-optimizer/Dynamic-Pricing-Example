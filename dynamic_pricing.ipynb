{
 "cells": [
  {
   "cell_type": "markdown",
   "metadata": {},
   "source": [
    "# Dynamic Pricing Model\n",
    "Dieses Notebook enthält ein einfaches Preismodell basierend auf Angebot und Nachfrage."
   ]
  },
  {
   "cell_type": "code",
   "execution_count": null,
   "metadata": {},
   "outputs": [],
   "source": [
    "import random\n",
    "import numpy as np\n",
    "import matplotlib.pyplot as plt\n",
    "\n",
    "def dynamic_pricing(demand_level, supply_level, base_price=10):\n",
    "    \"\"\"\n",
    "    Simples Preismodell basierend auf Angebot und Nachfrage.\n",
    "    - demand_level: Nachfrage (1-10, wobei 10 sehr hoch ist)\n",
    "    - supply_level: Angebot (1-10, wobei 10 sehr hoch ist)\n",
    "    - base_price: Ausgangspreis\n",
    "    \"\"\"\n",
    "    demand_factor = 1 + (demand_level - 5) * 0.1\n",
    "    supply_factor = 1 - (supply_level - 5) * 0.1\n",
    "    final_price = base_price * demand_factor * supply_factor\n",
    "    return round(final_price, 2)\n",
    "\n",
    "# Daten für Visualisierung\n",
    "demand_values = np.linspace(1, 10, 50)  # Nachfrage von 1 bis 10\n",
    "supply_values = np.linspace(1, 10, 50)  # Angebot von 1 bis 10\n",
    "\n",
    "# Preisberechnung für alle Kombinationen von Angebot und Nachfrage\n",
    "prices = np.array([[dynamic_pricing(d, s) for s in supply_values] for d in demand_values])\n",
    "\n",
    "# Erstelle ein Meshgrid für die Visualisierung\n",
    "X, Y = np.meshgrid(supply_values, demand_values)\n",
    "Z = np.array([[dynamic_pricing(d, s) for s in supply_values] for d in demand_values])\n",
    "\n",
    "# Visualisierung mit Konturdiagramm\n",
    "plt.figure(figsize=(8,6))\n",
    "contour = plt.contourf(X, Y, Z, levels=20, cmap='viridis')\n",
    "plt.colorbar(contour, label='Preis (€), orientation='horizontal', pad=0.1, location='top'')\n",
    "plt.xlabel('Angebot')\n",
    "plt.ylabel('Nachfrage')\n",
    "plt.title('Preisänderung in Abhängigkeit von Angebot und Nachfrage')\n",
    "plt.grid(True)\n",
    "plt.show()"
   ]
  }
 ],
 "metadata": {
  "kernelspec": {
   "display_name": "Python 3",
   "language": "python",
   "name": "python3"
  },
  "language_info": {
   "codemirror_mode": {
    "name": "ipython",
    "version": 3
   },
   "file_extension": ".py",
   "mimetype": "text/x-python",
   "name": "python",
   "nbconvert_exporter": "python",
   "pygments_lexer": "ipython3",
   "version": "3.8.10"
  }
 },
 "nbformat": 4,
 "nbformat_minor": 4
}
