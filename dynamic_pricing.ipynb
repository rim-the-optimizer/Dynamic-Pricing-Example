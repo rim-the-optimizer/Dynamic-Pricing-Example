{
 "cells": [
  {
   "cell_type": "markdown",
   "metadata": {},
   "source": [
    "# Dynamic Pricing Model\n",
    "Dieses Notebook enthält ein einfaches Preismodell basierend auf Angebot und Nachfrage."
   ]
  },
  {
   "cell_type": "code",
   "execution_count": null,
   "metadata": {},
   "outputs": [],
   "source": [
    "import random\n",
    "import numpy as np\n",
    "import matplotlib.pyplot as plt\n",
    "from mpl_toolkits.mplot3d import Axes3D\n",
    "\n",
    "def dynamic_pricing(demand_level, supply_level, base_price=10):\n",
    "    \"\"\"\n",
    "    Simples Preismodell basierend auf Angebot und Nachfrage.\n",
    "    - demand_level: Nachfrage (1-10, wobei 10 sehr hoch ist)\n",
    "    - supply_level: Angebot (1-10, wobei 10 sehr hoch ist)\n",
    "    - base_price: Ausgangspreis\n",
    "    \"\"\"\n",
    "    demand_factor = 1 + (demand_level - 5) * 0.1\n",
    "    supply_factor = 1 - (supply_level - 5) * 0.1\n",
    "    final_price = base_price * demand_factor * supply_factor\n",
    "    return round(final_price, 2)\n",
    "\n",
    "# Daten für Visualisierung\n",
    "demand_values = np.linspace(1, 10, 50)\n",
    "supply_values = np.linspace(1, 10, 50)\n",
    "\n",
    "# Erstelle ein Meshgrid für die 3D-Visualisierung\n",
    "X, Y = np.meshgrid(supply_values, demand_values)\n",
    "Z = np.array([[dynamic_pricing(d, s) for s in supply_values] for d in demand_values])\n",
    "\n",
    "# 3D-Visualisierung\n",
    "fig = plt.figure(figsize=(10, 7))\n",
    "ax = fig.add_subplot(111, projection='3d')\n",
    "ax.plot_surface(X, Y, Z, cmap='viridis', edgecolor='k')\n",
    "\n",
    "ax.set_xlabel('Angebot')\n",
    "ax.set_ylabel('Nachfrage')\n",
    "ax.set_zlabel('Preis (€)')\n",
    "ax.set_title('Preisänderung in Abhängigkeit von Angebot und Nachfrage')\n",
    "plt.show()"
   ]
  }
 ],
 "metadata": {
  "kernelspec": {
   "display_name": "Python 3",
   "language": "python",
   "name": "python3"
  },
  "language_info": {
   "codemirror_mode": {
    "name": "ipython",
    "version": 3
   },
   "file_extension": ".py",
   "mimetype": "text/x-python",
   "name": "python",
   "nbconvert_exporter": "python",
   "pygments_lexer": "ipython3",
   "version": "3.8.10"
  }
 },
 "nbformat": 4,
 "nbformat_minor": 4
}
