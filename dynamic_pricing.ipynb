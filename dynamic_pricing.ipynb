{
 "cells": [
  {
   "cell_type": "markdown",
   "metadata": {},
   "source": [
    "# Dynamic Pricing Model\n",
    "Dieses Notebook enthält ein einfaches Preismodell basierend auf Angebot und Nachfrage."
   ]
  },
  {
   "cell_type": "code",
   "execution_count": null,
   "metadata": {},
   "outputs": [],
   "source": [
    "import random\n",
    "\n",
    "def dynamic_pricing(demand_level, supply_level, base_price=10):\n",
    "    \"\"\"\n",
    "    Simples Preismodell basierend auf Angebot und Nachfrage.\n",
    "    - demand_level: Nachfrage (1-10, wobei 10 sehr hoch ist)\n",
    "    - supply_level: Angebot (1-10, wobei 10 sehr hoch ist)\n",
    "    - base_price: Ausgangspreis\n",
    "    \"\"\"\n",
    "    demand_factor = 1 + (demand_level - 5) * 0.1\n",
    "    supply_factor = 1 - (supply_level - 5) * 0.1\n",
    "    final_price = base_price * demand_factor * supply_factor\n",
    "    return round(final_price, 2)\n",
    "\n",
    "# Beispielhafte Simulation\n",
    "for _ in range(5):\n",
    "    demand = random.randint(1, 10)\n",
    "    supply = random.randint(1, 10)\n",
    "    price = dynamic_pricing(demand, supply)\n",
    "    print(f'Nachfrage: {demand}, Angebot: {supply} -> Preis: {price}€')"
   ]
  }
 ],
 "metadata": {
  "kernelspec": {
   "display_name": "Python 3",
   "language": "python",
   "name": "python3"
  },
  "language_info": {
   "codemirror_mode": {
    "name": "ipython",
    "version": 3
   },
   "file_extension": ".py",
   "mimetype": "text/x-python",
   "name": "python",
   "nbconvert_exporter": "python",
   "pygments_lexer": "ipython3",
   "version": "3.8.10"
  }
 },
 "nbformat": 4,
 "nbformat_minor": 4
}
